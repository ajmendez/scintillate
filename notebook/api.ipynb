{
 "metadata": {
  "name": "",
  "signature": "sha256:938cc5b0dff4fa8e95f42ba48faf8da9613502cf3d1c471f947a20c90d1d7c6f"
 },
 "nbformat": 3,
 "nbformat_minor": 0,
 "worksheets": [
  {
   "cells": [
    {
     "cell_type": "code",
     "collapsed": false,
     "input": [
      "import sys\n",
      "sys.path.append('/Users/ajmendez/dev/scintillate/')"
     ],
     "language": "python",
     "metadata": {},
     "outputs": [],
     "prompt_number": 4
    },
    {
     "cell_type": "code",
     "collapsed": false,
     "input": [
      "import json\n",
      "import requests\n",
      "import scintillate\n",
      "import scintillate.api\n",
      "# reload(scintillate.api)\n",
      "from pymendez.auth import auth"
     ],
     "language": "python",
     "metadata": {},
     "outputs": [],
     "prompt_number": 6
    },
    {
     "cell_type": "code",
     "collapsed": false,
     "input": [
      "api = scintillate.Flickr()"
     ],
     "language": "python",
     "metadata": {},
     "outputs": [],
     "prompt_number": 7
    },
    {
     "cell_type": "code",
     "collapsed": false,
     "input": [
      "# exif = api.getexif('8409361473')\n",
      "# exif2 = api.getexif('8433249741')\n",
      "exif3 = api.getexif('14327299377')"
     ],
     "language": "python",
     "metadata": {},
     "outputs": [],
     "prompt_number": 14
    },
    {
     "cell_type": "code",
     "collapsed": false,
     "input": [
      "api.getexiftag(exif3,'TargetAperture')"
     ],
     "language": "python",
     "metadata": {},
     "outputs": [
      {
       "metadata": {},
       "output_type": "pyout",
       "prompt_number": 22,
       "text": [
        "u'2.8'"
       ]
      }
     ],
     "prompt_number": 22
    },
    {
     "cell_type": "code",
     "collapsed": false,
     "input": [
      "# exif3"
     ],
     "language": "python",
     "metadata": {},
     "outputs": [],
     "prompt_number": 23
    },
    {
     "cell_type": "code",
     "collapsed": false,
     "input": [
      "# y = api.flickr.stats_getTotalViews(date='2014-06-05', format='json')\n",
      "y = api.flickr.stats_getPhotostreamDomains(date='2014-06-05', format='json')\n",
      "# y = api.flickr.stats_getPhotostreamReferrers(date='2014-06-05', domain='flickr.com', format='json')"
     ],
     "language": "python",
     "metadata": {},
     "outputs": [],
     "prompt_number": 36
    },
    {
     "cell_type": "code",
     "collapsed": false,
     "input": [
      "scintillate.api.nprint(scintillate.api._json((y)))"
     ],
     "language": "python",
     "metadata": {},
     "outputs": [
      {
       "output_type": "stream",
       "stream": "stdout",
       "text": [
        "{u'domains': {u'domain': [{u'name': u'flickr.com', u'views': u'3'},\n",
        "                          {u'name': u'google.com', u'views': u'2'},\n",
        "                          {u'name': u'physics.ucsd.edu', u'views': u'1'}],\n",
        "              u'page': 1,\n",
        "              u'pages': 1,\n",
        "              u'perpage': 25,\n",
        "              u'total': u'3'},\n",
        " u'stat': u'ok'}\n"
       ]
      }
     ],
     "prompt_number": 37
    },
    {
     "cell_type": "code",
     "collapsed": false,
     "input": [
      "z = api.flickr.photos_getInfo(photo_id='8409361473', format='json')\n",
      "# z = api.flickr.photos_getExif(photo_id='8409361473', format='json')"
     ],
     "language": "python",
     "metadata": {},
     "outputs": []
    },
    {
     "cell_type": "markdown",
     "metadata": {},
     "source": [
      "# api stats"
     ]
    },
    {
     "cell_type": "code",
     "collapsed": false,
     "input": [
      "cookiefile = auth('chrome','cookiefile')\n",
      "print cookiefile"
     ],
     "language": "python",
     "metadata": {},
     "outputs": [
      {
       "output_type": "stream",
       "stream": "stdout",
       "text": [
        "/Users/ajmendez/Library/Application Support/Google/Chrome/Default/Cookies\n"
       ]
      }
     ],
     "prompt_number": 25
    },
    {
     "cell_type": "code",
     "collapsed": false,
     "input": [
      "%%bash \n",
      "wget --load-cookies ~/.limited/cookies.txt -O api.html https://www.flickr.com/services/apps/72157632479752633/key"
     ],
     "language": "python",
     "metadata": {},
     "outputs": [
      {
       "output_type": "stream",
       "stream": "stderr",
       "text": [
        "--2014-06-30 12:56:53--  https://www.flickr.com/services/apps/72157632479752633/key\n",
        "Resolving www.flickr.com... 67.195.141.200, 208.71.44.31, 206.190.61.106, ...\n",
        "Connecting to www.flickr.com|67.195.141.200|:443... connected.\n",
        "HTTP request sent, awaiting response... 302 Found\n",
        "Location: https://www.flickr.com/cookie_migration.gne?redirect_url=https%3A%2F%2Fwww.flickr.com%2Fservices%2Fapps%2F72157632479752633%2Fkey [following]\n",
        "--2014-06-30 12:56:53--  https://www.flickr.com/cookie_migration.gne?redirect_url=https%3A%2F%2Fwww.flickr.com%2Fservices%2Fapps%2F72157632479752633%2Fkey\n",
        "Reusing existing connection to www.flickr.com:443.\n",
        "HTTP request sent, awaiting response... 302 Found\n",
        "Location: https://www.flickr.com/cookie_migration_done.gne?migration_id=3235&redirect_url=https%3A%2F%2Fwww.flickr.com%2Fservices%2Fapps%2F72157632479752633%2Fkey [following]\n",
        "--2014-06-30 12:56:53--  https://www.flickr.com/cookie_migration_done.gne?migration_id=3235&redirect_url=https%3A%2F%2Fwww.flickr.com%2Fservices%2Fapps%2F72157632479752633%2Fkey\n",
        "Reusing existing connection to www.flickr.com:443.\n",
        "HTTP request sent, awaiting response... 302 Found\n",
        "Location: https://www.flickr.com/services/apps/72157632479752633/key [following]\n",
        "--2014-06-30 12:56:53--  https://www.flickr.com/services/apps/72157632479752633/key\n",
        "Reusing existing connection to www.flickr.com:443.\n",
        "HTTP request sent, awaiting response... 200 OK\n",
        "Length: unspecified [text/html]\n",
        "Saving to: 'api.html'\n",
        "\n",
        "     0K .......... .......... .......... .......... ..........  302K\n",
        "    50K .......... .......... .......... .......... ..........  302K\n",
        "   100K .......... .......... .......... .......... ......     3.11M=0.3s\n",
        "\n",
        "2014-06-30 12:56:54 (425 KB/s) - 'api.html' saved [150154]\n",
        "\n"
       ]
      }
     ],
     "prompt_number": 68
    },
    {
     "cell_type": "code",
     "collapsed": false,
     "input": [
      "import time\n",
      "import calendar\n",
      "import requests\n",
      "import cookielib\n",
      "from bs4 import BeautifulSoup\n",
      "from matplotlib.dates import num2date, date2num\n",
      "from pysurvey.plot import setup, line, legend, dateticks"
     ],
     "language": "python",
     "metadata": {},
     "outputs": [],
     "prompt_number": 174
    },
    {
     "cell_type": "code",
     "collapsed": false,
     "input": [
      "cj = cookielib.MozillaCookieJar('/Users/ajmendez/.limited/cookies.txt')\n",
      "# cj = cookielib.FileCookieJar('/Users/ajmendez/.limited/cookies')\n",
      "\n",
      "cj.load()\n",
      "response = requests.get('https://www.flickr.com/services/apps/72157632479752633/key', cookies=cj)"
     ],
     "language": "python",
     "metadata": {},
     "outputs": [],
     "prompt_number": 7
    },
    {
     "cell_type": "code",
     "collapsed": false,
     "input": [
      "#soup = BeautifulSoup(open('api.html','r'))\n",
      "soup = BeautifulSoup(response.text)"
     ],
     "language": "python",
     "metadata": {},
     "outputs": [],
     "prompt_number": 11
    },
    {
     "cell_type": "code",
     "collapsed": false,
     "input": [
      "def debug_soup(soup):\n",
      "    for table in soup.findAll('table'):\n",
      "        if not table.get('id'):\n",
      "    #         print table.prettify()\n",
      "            for bar in table.findAll('div',{'class':'statlabel'}):\n",
      "                tmp = bar.text.split('QPS')\n",
      "                tmp2 = tmp[1].replace(',','').split()\n",
      "                qps = float(tmp[0])\n",
      "                calls = int(tmp2[0])\n",
      "                timescale = tmp2[-1]\n",
      "                print qps, calls, timescale\n",
      "\n",
      "            print '----'\n",
      "# debug_soup(soup)"
     ],
     "language": "python",
     "metadata": {},
     "outputs": [],
     "prompt_number": 164
    },
    {
     "cell_type": "markdown",
     "metadata": {},
     "source": [
      "# Stats json"
     ]
    },
    {
     "cell_type": "code",
     "collapsed": false,
     "input": [
      "x = json.load(open('/Users/ajmendez/Downloads/flickr/apistats.json'))\n",
      "print len(x), [sum([1 if z['timescale'] == t else 0\n",
      "                    for z in x.values() ]) \n",
      "               for t in ['hour','day','week']]"
     ],
     "language": "python",
     "metadata": {},
     "outputs": [
      {
       "output_type": "stream",
       "stream": "stdout",
       "text": [
        "592 [48, 180, 364]\n"
       ]
      }
     ],
     "prompt_number": 216
    },
    {
     "cell_type": "code",
     "collapsed": false,
     "input": [
      "def cleanup(x):\n",
      "    mods = {'hour': 3600,\n",
      "            'day':  3600*24,\n",
      "            'week': 3600*24*7}\n",
      "    offsets = {'hour': 0,\n",
      "               'day':  1,\n",
      "               'week': 2}\n",
      "    items = list(x.iteritems())\n",
      "    for key, item in items:\n",
      "        x.pop(key,None)\n",
      "        \n",
      "#         if item['calls'] < 50000:\n",
      "#             continue\n",
      "        \n",
      "        md = mods[item['timescale']]\n",
      "        tmp = item['date'] - (item['date']%md) + offsets[item['timescale']]\n",
      "        newkey = str(tmp)\n",
      "        item['date'] = tmp\n",
      "        x[newkey] = item\n",
      "#         print key, item['date'], item['date'] % md, item.get('run', '')\n",
      "    return x\n",
      "        \n",
      "#         break\n",
      "x = cleanup(x)\n",
      "print len(x), [sum([1 if z['timescale'] == t else 0\n",
      "                    for z in x.values() ]) \n",
      "               for t in ['hour','day','week']]"
     ],
     "language": "python",
     "metadata": {},
     "outputs": [
      {
       "output_type": "stream",
       "stream": "stdout",
       "text": [
        "132 [48, 31, 53]\n"
       ]
      }
     ],
     "prompt_number": 217
    },
    {
     "cell_type": "code",
     "collapsed": false,
     "input": [
      "def plot_apistats(timescale='hour'):\n",
      "    keys = sorted(x.keys())\n",
      "#     deltas = {'hour':3600,\n",
      "#               'day':3600*24,\n",
      "#               'week':3600*24*7}\n",
      "    deltas = {'hour':1/24.0,\n",
      "              'day':1,\n",
      "              'week':7}\n",
      "    delta = deltas[timescale]\n",
      "    a = [date2num(datetime.fromtimestamp(x[key]['date'])) \n",
      "         for key in keys if x[key]['timescale'] == timescale]\n",
      "    b = [x[key]['calls']\n",
      "         for key in keys if x[key]['timescale'] == timescale]\n",
      "    pylab.bar(a,b, width=delta);\n",
      "#     pylab.plot(a,b, 'x')\n",
      "    dateticks('%Y-%m-%d %H')\n",
      "    setup()\n",
      "setup(figsize=(18,6), subplt=(1,3,1), \n",
      "      autoticks=True, ylabel='Counts per day')\n",
      "plot_apistats('hour')\n",
      "setup(xr=reversed(pylab.axis()[:2]))\n",
      "setup(subplt=(1,3,2))\n",
      "plot_apistats('day')\n",
      "setup(xr=reversed(pylab.axis()[:2]))\n",
      "setup(subplt=(1,3,3))\n",
      "plot_apistats('week')\n",
      "setup(xr=reversed(pylab.axis()[:2]))\n",
      "None"
     ],
     "language": "python",
     "metadata": {},
     "outputs": [
      {
       "metadata": {},
       "output_type": "display_data",
       "png": "[encoded data removed]",
       "text": [
        "<matplotlib.figure.Figure at 0x10dcbca50>"
       ]
      }
     ],
     "prompt_number": 226
    },
    {
     "cell_type": "code",
     "collapsed": false,
     "input": [
      "x[keys[0]]"
     ],
     "language": "python",
     "metadata": {},
     "outputs": [
      {
       "metadata": {},
       "output_type": "pyout",
       "prompt_number": 119,
       "text": [
        "{u'calls': 0,\n",
        " u'date': 1373155202,\n",
        " u'qps': 0.0,\n",
        " u'run': 1404244908,\n",
        " u'timescale': u'week'}"
       ]
      }
     ],
     "prompt_number": 119
    },
    {
     "cell_type": "code",
     "collapsed": false,
     "input": [
      "def toint(timetuple):\n",
      "    return calendar.timegm(timetuple)"
     ],
     "language": "python",
     "metadata": {},
     "outputs": [],
     "prompt_number": 120
    },
    {
     "cell_type": "code",
     "collapsed": false,
     "input": [
      "for item in x.itervalues():\n",
      "    if item['timescale'] == 'week' and item['calls'] > 50000:\n",
      "        print (datetime.fromtimestamp(int(item['date'])), \n",
      "               int(item['date']), \n",
      "               int(item['date']) % 86400, \n",
      "               item.get('run',None))\n",
      "#         e = toint(time.gmtime(float(item['date'])))\n",
      "#         e = int(item['date'])\n",
      "#         print e, e%84600, item['calls']"
     ],
     "language": "python",
     "metadata": {},
     "outputs": [
      {
       "output_type": "stream",
       "stream": "stdout",
       "text": [
        "(datetime.datetime(2014, 6, 26, 5, 0, 2), 1403784002, 43202, None)\n",
        "(datetime.datetime(2014, 6, 24, 2, 0, 2), 1403600402, 32402, None)\n",
        "(datetime.datetime(2014, 6, 23, 23, 0, 2), 1403589602, 21602, None)\n",
        "(datetime.datetime(2014, 6, 21, 17, 0, 2), 1403395202, 2, 1404244908)\n",
        "(datetime.datetime(2014, 6, 26, 12, 0, 2), 1403809202, 68402, None)\n",
        "(datetime.datetime(2014, 6, 26, 2, 0, 2), 1403773202, 32402, None)\n",
        "(datetime.datetime(2014, 6, 27, 19, 0, 2), 1403920802, 7202, None)\n"
       ]
      }
     ],
     "prompt_number": 124
    },
    {
     "cell_type": "code",
     "collapsed": false,
     "input": [
      "def plot_days():\n",
      "    x = datetime.now().replace(minute=0, second=0, microsecond=0)\n",
      "    # for each hour\n",
      "#     for hour in range(24):\n",
      "#         tmp = x - timedelta(hours=hour)\n",
      "#         date = calendar.timegm(tmp.timetuple()) \n",
      "#         print date, date%86400\n",
      "    # for each date\n",
      "#     for day in range(8):\n",
      "#         hours = day*24.0 + x.hour\n",
      "#         tmp = x - timedelta(hours=hours)\n",
      "#         date = calendar.timegm(tmp.timetuple()) \n",
      "#         print date, date % 86400\n",
      "    # for each week:\n",
      "    for hour in range(24):\n",
      "        day = 0\n",
      "#     for day in range(9):\n",
      "        hours = hour + (day + (x.isoweekday()%7))*24 + x.hour%24\n",
      "        tmp = x - timedelta(hours=hours)\n",
      "        date = calendar.timegm(tmp.timetuple()) \n",
      "        print date, date % 86400*7\n",
      "\n",
      "plot_days()"
     ],
     "language": "python",
     "metadata": {},
     "outputs": [
      {
       "output_type": "stream",
       "stream": "stdout",
       "text": [
        "1404000000 0\n",
        "1403996400 579600\n",
        "1403992800 554400\n",
        "1403989200 529200\n",
        "1403985600 504000\n",
        "1403982000 478800\n",
        "1403978400 453600\n",
        "1403974800 428400\n",
        "1403971200 403200\n",
        "1403967600 378000\n",
        "1403964000 352800\n",
        "1403960400 327600\n",
        "1403956800 302400\n",
        "1403953200 277200\n",
        "1403949600 252000\n",
        "1403946000 226800\n",
        "1403942400 201600\n",
        "1403938800 176400\n",
        "1403935200 151200\n",
        "1403931600 126000\n",
        "1403928000 100800\n",
        "1403924400 75600\n",
        "1403920800 50400\n",
        "1403917200 25200\n"
       ]
      }
     ],
     "prompt_number": 148
    },
    {
     "cell_type": "code",
     "collapsed": false,
     "input": [],
     "language": "python",
     "metadata": {},
     "outputs": []
    }
   ],
   "metadata": {}
  }
 ]
}