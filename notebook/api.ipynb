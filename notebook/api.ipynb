{
 "metadata": {
  "name": "",
  "signature": "sha256:d2f5ab303d67069c14a02e5b0c9a08ab035f831e74e0fd9b563396e4416534c6"
 },
 "nbformat": 3,
 "nbformat_minor": 0,
 "worksheets": [
  {
   "cells": [
    {
     "cell_type": "code",
     "collapsed": false,
     "input": [
      "import sys\n",
      "import json\n",
      "import time\n",
      "import requests\n",
      "import calendar\n",
      "# import cookielib\n",
      "import scintillate\n",
      "import scintillate.api\n",
      "from datetime import datetime\n",
      "from bs4 import BeautifulSoup\n",
      "from pymendez.auth import auth\n",
      "from dateutil import parser\n",
      "from matplotlib.dates import num2date, date2num\n",
      "from pysurvey.plot import setup, line, legend, dateticks"
     ],
     "language": "python",
     "metadata": {},
     "outputs": [],
     "prompt_number": 2
    },
    {
     "cell_type": "markdown",
     "metadata": {},
     "source": [
      "# API Debug"
     ]
    },
    {
     "cell_type": "code",
     "collapsed": false,
     "input": [
      "api = scintillate.Flickr()"
     ],
     "language": "python",
     "metadata": {},
     "outputs": [],
     "prompt_number": 7
    },
    {
     "cell_type": "code",
     "collapsed": false,
     "input": [
      "# For Debug\n",
      "photos = ['8409361473', '8433249741', '14327299377']\n",
      "exif = api.getexif(photos[1])"
     ],
     "language": "python",
     "metadata": {},
     "outputs": [],
     "prompt_number": 14
    },
    {
     "cell_type": "code",
     "collapsed": false,
     "input": [
      "# y = api.flickr.stats_getTotalViews(date='2014-06-05', format='json')\n",
      "y = api.flickr.stats_getPhotostreamDomains(date='2014-06-05', format='json')\n",
      "# y = api.flickr.stats_getPhotostreamReferrers(date='2014-06-05', domain='flickr.com', format='json')"
     ],
     "language": "python",
     "metadata": {},
     "outputs": [],
     "prompt_number": 36
    },
    {
     "cell_type": "code",
     "collapsed": false,
     "input": [
      "scintillate.api.nprint(scintillate.api._json((y)))"
     ],
     "language": "python",
     "metadata": {},
     "outputs": [
      {
       "output_type": "stream",
       "stream": "stdout",
       "text": [
        "{u'domains': {u'domain': [{u'name': u'flickr.com', u'views': u'3'},\n",
        "                          {u'name': u'google.com', u'views': u'2'},\n",
        "                          {u'name': u'physics.ucsd.edu', u'views': u'1'}],\n",
        "              u'page': 1,\n",
        "              u'pages': 1,\n",
        "              u'perpage': 25,\n",
        "              u'total': u'3'},\n",
        " u'stat': u'ok'}\n"
       ]
      }
     ],
     "prompt_number": 37
    },
    {
     "cell_type": "code",
     "collapsed": false,
     "input": [
      "z = api.flickr.photos_getInfo(photo_id='8409361473', format='json')\n",
      "# z = api.flickr.photos_getExif(photo_id='8409361473', format='json')"
     ],
     "language": "python",
     "metadata": {},
     "outputs": []
    },
    {
     "cell_type": "markdown",
     "metadata": {},
     "source": [
      "# API Usage Stats"
     ]
    },
    {
     "cell_type": "code",
     "collapsed": false,
     "input": [
      "x = json.load(open('/Users/ajmendez/Downloads/flickr/apistats.json'))\n",
      "# x = json.load(open('/Users/ajmendez/data/flickr/apistats.json'))\n",
      "print len(x), [sum([1 if z['timescale'] == t else 0\n",
      "                    for z in x.values() ]) \n",
      "               for t in ['hour','day','week']]"
     ],
     "language": "python",
     "metadata": {},
     "outputs": [
      {
       "output_type": "stream",
       "stream": "stdout",
       "text": [
        "1184 [606, 210, 368]\n"
       ]
      }
     ],
     "prompt_number": 4
    },
    {
     "cell_type": "code",
     "collapsed": false,
     "input": [
      "# sorted([[datetime.fromtimestamp(z['date']),z['calls']] for z in x.values() if z['timescale'] == 'day' ])"
     ],
     "language": "python",
     "metadata": {},
     "outputs": [],
     "prompt_number": 5
    },
    {
     "cell_type": "code",
     "collapsed": false,
     "input": [
      "def cleanup(x):\n",
      "    '''There are a number of the day and week items that have additional hours\n",
      "    included due to running them at a specific hour.  This attempts to remove \n",
      "    thoese extra seconds.  It is currently wrong, but I am not sure how wrong'''\n",
      "    \n",
      "    mods = {'hour': 3600,\n",
      "            'day':  3600*24,\n",
      "            'week': 3600*24*7}\n",
      "    offsets = {'hour': 0,\n",
      "               'day':  1,\n",
      "               'week': 2}\n",
      "    items = list(x.iteritems())\n",
      "    for key, item in items:\n",
      "        x.pop(key,None)\n",
      "\n",
      "        md = mods[item['timescale']]\n",
      "        tmp = item['date'] - (item['date']%md) + offsets[item['timescale']]\n",
      "        newkey = str(tmp)\n",
      "        item['date'] = tmp\n",
      "        x[newkey] = item\n",
      "    return x\n",
      "        \n",
      "x = cleanup(x)\n",
      "print len(x), [sum([1 if z['timescale'] == t else 0\n",
      "                    for z in x.values() ]) \n",
      "               for t in ['hour','day','week']]"
     ],
     "language": "python",
     "metadata": {},
     "outputs": [
      {
       "output_type": "stream",
       "stream": "stdout",
       "text": [
        "723 [606, 61, 56]\n"
       ]
      }
     ],
     "prompt_number": 6
    },
    {
     "cell_type": "code",
     "collapsed": false,
     "input": [
      "def plot_apistats(item, timescale='hour'):\n",
      "    keys = sorted(x.keys())\n",
      "    deltas = {'hour':1/24.0,\n",
      "              'day':1,\n",
      "              'week':7}\n",
      "    delta = deltas[timescale]\n",
      "    a = [date2num(datetime.fromtimestamp(x[key]['date'])) \n",
      "         for key in keys if x[key]['timescale'] == timescale]\n",
      "    b = [x[key][item]#/(delta*24)\n",
      "         for key in keys if x[key]['timescale'] == timescale]\n",
      "    pylab.bar(a,b, width=delta*0.9, linewidth=0)\n",
      "#     pylab.plot(a,b, 'x')\n",
      "    dateticks('%Y-%m-%d')\n",
      "    setup()\n",
      "\n",
      "ylog = True\n",
      "item = 'calls'\n",
      "label = {'calls':'Calls per interval',\n",
      "         'qps':'Querys per second'}[item]\n",
      "subtitle = {'hour':'Last Day',\n",
      "            'day':'Last Month',\n",
      "            'week':'Last Year'}\n",
      "setup(figsize=(18,6), subplt=(1,3,1), autoticks=True, ylabel=label)\n",
      "for k,timescale in enumerate(['hour','day','week'],1):\n",
      "    setup(subplt=(1,3,k), subtitle=subtitle[timescale], ylog=ylog)\n",
      "    plot_apistats(item, timescale)\n",
      "    setup(xr=reversed(pylab.axis()[:2]))\n"
     ],
     "language": "python",
     "metadata": {},
     "outputs": [
      {
       "metadata": {},
       "output_type": "display_data",
       "png": "[encoded data removed]",
       "text": [
        "<matplotlib.figure.Figure at 0x109933150>"
       ]
      }
     ],
     "prompt_number": 8
    },
    {
     "cell_type": "code",
     "collapsed": false,
     "input": [],
     "language": "python",
     "metadata": {},
     "outputs": []
    }
   ],
   "metadata": {}
  }
 ]
}