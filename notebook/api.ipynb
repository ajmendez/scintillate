{
 "metadata": {
  "name": "",
  "signature": "sha256:4be78bc136cd3f03860fbd50e965e984a8b1aa4d7c04ebc8be002950d303b82f"
 },
 "nbformat": 3,
 "nbformat_minor": 0,
 "worksheets": [
  {
   "cells": [
    {
     "cell_type": "code",
     "collapsed": false,
     "input": [
      "import sys\n",
      "sys.path.append('/Users/ajmendez/dev/scintillate/')"
     ],
     "language": "python",
     "metadata": {},
     "outputs": [],
     "prompt_number": 1
    },
    {
     "cell_type": "code",
     "collapsed": false,
     "input": [
      "import json\n",
      "import scintillate\n",
      "import scintillate.api"
     ],
     "language": "python",
     "metadata": {},
     "outputs": [],
     "prompt_number": 3
    },
    {
     "cell_type": "code",
     "collapsed": false,
     "input": [
      "api = scintillate.Flickr()"
     ],
     "language": "python",
     "metadata": {},
     "outputs": [],
     "prompt_number": 5
    },
    {
     "cell_type": "code",
     "collapsed": false,
     "input": [
      "x = json.load(open('/Users/ajmendez/data/flickr/stats.json'))"
     ],
     "language": "python",
     "metadata": {},
     "outputs": [],
     "prompt_number": 22
    },
    {
     "cell_type": "code",
     "collapsed": false,
     "input": [
      "x['2014-06-05']"
     ],
     "language": "python",
     "metadata": {},
     "outputs": [
      {
       "metadata": {},
       "output_type": "pyout",
       "prompt_number": 28,
       "text": [
        "{u'collections': 0,\n",
        " u'domainlist': [[u'flickr.com',\n",
        "   3,\n",
        "   [[u'http://flickr.com/photos/pxddn/', 1],\n",
        "    [u'http://flickr.com/photos/pxddn/sets/72157639745480064/', 1],\n",
        "    [u'http://flickr.com/photos/pxddn/with/12730892854/', 1]]],\n",
        "  [u'google.com',\n",
        "   2,\n",
        "   [[u'http://google.com/search?q=http%3A%2F%2Fwww.flickr.com%2Fphotos%2Fpxddn%2F',\n",
        "     2]]],\n",
        "  [u'physics.ucsd.edu', 1, [[u'http://physics.ucsd.edu/~ajmendez/photo', 1]]]],\n",
        " u'domains': 3,\n",
        " u'galleries': 0,\n",
        " u'photolist': [[u'11952000323', 4, 0, 0],\n",
        "  [u'11937289355', 3, 0, 0],\n",
        "  [u'11937327423', 3, 0, 0],\n",
        "  [u'11937479075', 3, 0, 0],\n",
        "  [u'11937547294', 3, 0, 0],\n",
        "  [u'11937567204', 3, 0, 0],\n",
        "  [u'11937617865', 3, 0, 0],\n",
        "  [u'11937793133', 3, 0, 0],\n",
        "  [u'11937823824', 3, 0, 0],\n",
        "  [u'11937889026', 3, 0, 0],\n",
        "  [u'11937906886', 3, 0, 0],\n",
        "  [u'11937981426', 3, 0, 0],\n",
        "  [u'11938240296', 3, 0, 0],\n",
        "  [u'11938422485', 3, 0, 0],\n",
        "  [u'11938447776', 3, 0, 0],\n",
        "  [u'11938707803', 3, 0, 0],\n",
        "  [u'11951363775', 3, 0, 0],\n",
        "  [u'11951626103', 3, 0, 0],\n",
        "  [u'11951957233', 3, 0, 0],\n",
        "  [u'11952486446', 3, 0, 0],\n",
        "  [u'12440800745', 3, 0, 0],\n",
        "  [u'12440945145', 3, 0, 0],\n",
        "  [u'12440948365', 3, 0, 0],\n",
        "  [u'12441065923', 3, 0, 0],\n",
        "  [u'12441399404', 3, 0, 0],\n",
        "  [u'14002382109', 3, 0, 0],\n",
        "  [u'14002399150', 3, 0, 0],\n",
        "  [u'14002439747', 3, 0, 0],\n",
        "  [u'14185759931', 3, 0, 0],\n",
        "  [u'14186545392', 3, 0, 0],\n",
        "  [u'14189129365', 3, 0, 0],\n",
        "  [u'8358060199', 2, 0, 0],\n",
        "  [u'11314250975', 2, 0, 0],\n",
        "  [u'11937678675', 2, 0, 0],\n",
        "  [u'11937684585', 2, 0, 0],\n",
        "  [u'11937693355', 2, 0, 0],\n",
        "  [u'11937711545', 2, 0, 0],\n",
        "  [u'11937820975', 2, 0, 0],\n",
        "  [u'11937919983', 2, 0, 0],\n",
        "  [u'11937939073', 2, 0, 0],\n",
        "  [u'11937977013', 2, 0, 0],\n",
        "  [u'11938023033', 2, 0, 0],\n",
        "  [u'11938272304', 2, 0, 0],\n",
        "  [u'11938510446', 2, 0, 0],\n",
        "  [u'11938575186', 2, 0, 0],\n",
        "  [u'11939066536', 2, 0, 0],\n",
        "  [u'11939195626', 2, 0, 0],\n",
        "  [u'12441072105', 2, 0, 0],\n",
        "  [u'12441080165', 2, 0, 0],\n",
        "  [u'8378702505', 1, 0, 0],\n",
        "  [u'12276652093', 1, 0, 0],\n",
        "  [u'12277016074', 1, 0, 0],\n",
        "  [u'12730880454', 1, 0, 0],\n",
        "  [u'12730892854', 1, 0, 0],\n",
        "  [u'13020547365', 1, 0, 0],\n",
        "  [u'13020912605', 1, 0, 0],\n",
        "  [u'13131305435', 1, 0, 0],\n",
        "  [u'13131353823', 1, 0, 0],\n",
        "  [u'13131392545', 1, 0, 0],\n",
        "  [u'13131655783', 1, 0, 0],\n",
        "  [u'13131708145', 1, 0, 0],\n",
        "  [u'13131767285', 1, 0, 0],\n",
        "  [u'13131801213', 1, 0, 0],\n",
        "  [u'13131935773', 1, 0, 0],\n",
        "  [u'13132072023', 1, 0, 0],\n",
        "  [u'13132189624', 1, 0, 0],\n",
        "  [u'13259723265', 1, 0, 0],\n",
        "  [u'13259870303', 1, 0, 0],\n",
        "  [u'13323686395', 1, 0, 0],\n",
        "  [u'13323718175', 1, 0, 0],\n",
        "  [u'13323890093', 1, 0, 0],\n",
        "  [u'13324096794', 1, 0, 0],\n",
        "  [u'13429151165', 1, 0, 0],\n",
        "  [u'13429294193', 1, 0, 0],\n",
        "  [u'13442752945', 1, 0, 0],\n",
        "  [u'13507586254', 1, 0, 0],\n",
        "  [u'13630448575', 1, 0, 0],\n",
        "  [u'13639297184', 1, 0, 0],\n",
        "  [u'13639299634', 1, 0, 0],\n",
        "  [u'13662887765', 1, 0, 0],\n",
        "  [u'13663241454', 1, 0, 0],\n",
        "  [u'13756112073', 1, 0, 0],\n",
        "  [u'13771746593', 1, 0, 0],\n",
        "  [u'13772089634', 1, 0, 0],\n",
        "  [u'13877136915', 1, 0, 0],\n",
        "  [u'13877204565', 1, 0, 0],\n",
        "  [u'13877240393', 1, 0, 0],\n",
        "  [u'13877315863', 1, 0, 0],\n",
        "  [u'13877329804', 1, 0, 0],\n",
        "  [u'13877334444', 1, 0, 0],\n",
        "  [u'13877625865', 1, 0, 0],\n",
        "  [u'13877939264', 1, 0, 0],\n",
        "  [u'13878090535', 1, 0, 0],\n",
        "  [u'13878106685', 1, 0, 0],\n",
        "  [u'13878174025', 1, 0, 0],\n",
        "  [u'13878193455', 1, 0, 0],\n",
        "  [u'13878284925', 1, 0, 0],\n",
        "  [u'13878340574', 1, 0, 0],\n",
        "  [u'13878428605', 1, 0, 0],\n",
        "  [u'13878438304', 1, 0, 0]],\n",
        " u'photos': 200,\n",
        " u'photostream': 8,\n",
        " u'sets': 3,\n",
        " u'total': 211}"
       ]
      }
     ],
     "prompt_number": 28
    },
    {
     "cell_type": "code",
     "collapsed": false,
     "input": [
      "# y = api.flickr.stats_getTotalViews(date='2014-06-05', format='json')\n",
      "y = api.flickr.stats_getPhotostreamDomains(date='2014-06-05', format='json')\n",
      "# y = api.flickr.stats_getPhotostreamReferrers(date='2014-06-05', domain='flickr.com', format='json')"
     ],
     "language": "python",
     "metadata": {},
     "outputs": [],
     "prompt_number": 36
    },
    {
     "cell_type": "code",
     "collapsed": false,
     "input": [
      "scintillate.api.nprint(scintillate.api._json((y)))"
     ],
     "language": "python",
     "metadata": {},
     "outputs": [
      {
       "output_type": "stream",
       "stream": "stdout",
       "text": [
        "{u'domains': {u'domain': [{u'name': u'flickr.com', u'views': u'3'},\n",
        "                          {u'name': u'google.com', u'views': u'2'},\n",
        "                          {u'name': u'physics.ucsd.edu', u'views': u'1'}],\n",
        "              u'page': 1,\n",
        "              u'pages': 1,\n",
        "              u'perpage': 25,\n",
        "              u'total': u'3'},\n",
        " u'stat': u'ok'}\n"
       ]
      }
     ],
     "prompt_number": 37
    },
    {
     "cell_type": "code",
     "collapsed": false,
     "input": [
      "z = api.flickr.photos_getInfo(photo_id='8409361473', format='json')\n",
      "# z = api.flickr.photos_getExif(photo_id='8409361473', format='json')"
     ],
     "language": "python",
     "metadata": {},
     "outputs": []
    },
    {
     "cell_type": "code",
     "collapsed": false,
     "input": [
      "scintillate.api.nprint(api._get(z))"
     ],
     "language": "python",
     "metadata": {},
     "outputs": [
      {
       "output_type": "stream",
       "stream": "stdout",
       "text": [
        "{u'photo': {u'comments': {u'_content': u'0'},\n",
        "            u'dates': {u'lastupdate': u'1358998873',\n",
        "                       u'posted': u'1358998866',\n",
        "                       u'taken': u'2012-11-04 20:52:57',\n",
        "                       u'takengranularity': u'0'},\n",
        "            u'dateuploaded': u'1358998866',\n",
        "            u'description': {u'_content': u''},\n",
        "            u'editability': {u'canaddmeta': 1, u'cancomment': 1},\n",
        "            u'farm': 9,\n",
        "            u'id': u'8409361473',\n",
        "            u'isfavorite': 0,\n",
        "            u'license': u'0',\n",
        "            u'media': u'photo',\n",
        "            u'notes': {u'note': []},\n",
        "            u'originalformat': u'jpg',\n",
        "            u'originalsecret': u'083c11bcd7',\n",
        "            u'owner': {u'iconfarm': 4,\n",
        "                       u'iconserver': u'3725',\n",
        "                       u'location': u'',\n",
        "                       u'nsid': u'51322276@N05',\n",
        "                       u'path_alias': u'pxddn',\n",
        "                       u'realname': u'Alex',\n",
        "                       u'username': u'pxddn'},\n",
        "            u'people': {u'haspeople': 0},\n",
        "            u'permissions': {u'permaddmeta': 2, u'permcomment': 3},\n",
        "            u'publiceditability': {u'canaddmeta': 0, u'cancomment': 1},\n",
        "            u'rotation': 0,\n",
        "            u'safety_level': u'0',\n",
        "            u'secret': u'07c682ae71',\n",
        "            u'server': u'8464',\n",
        "            u'tags': {u'tag': []},\n",
        "            u'title': {u'_content': u'IMG_6811'},\n",
        "            u'urls': {u'url': [{u'_content': u'http://www.flickr.com/photos/pxddn/8409361473/',\n",
        "                                u'type': u'photopage'}]},\n",
        "            u'usage': {u'canblog': 1,\n",
        "                       u'candownload': 1,\n",
        "                       u'canprint': 1,\n",
        "                       u'canshare': 1},\n",
        "            u'views': u'0',\n",
        "            u'visibility': {u'isfamily': 0, u'isfriend': 0, u'ispublic': 0}},\n",
        " u'stat': u'ok'}\n"
       ]
      }
     ],
     "prompt_number": 30
    },
    {
     "cell_type": "code",
     "collapsed": false,
     "input": [],
     "language": "python",
     "metadata": {},
     "outputs": []
    }
   ],
   "metadata": {}
  }
 ]
}