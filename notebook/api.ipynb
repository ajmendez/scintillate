{
 "metadata": {
  "name": ""
 },
 "nbformat": 3,
 "nbformat_minor": 0,
 "worksheets": [
  {
   "cells": [
    {
     "cell_type": "code",
     "collapsed": false,
     "input": [
      "import sys\n",
      "sys.path.append('/Users/ajmendez/dev/scintillate/')"
     ],
     "language": "python",
     "metadata": {},
     "outputs": []
    },
    {
     "cell_type": "code",
     "collapsed": false,
     "input": [
      "import json\n",
      "import scintillate\n",
      "import scintillate.api"
     ],
     "language": "python",
     "metadata": {},
     "outputs": [],
     "prompt_number": 4
    },
    {
     "cell_type": "code",
     "collapsed": false,
     "input": [
      "x = json.load(open('/Users/ajmendez/data/flickr/photos.json'))"
     ],
     "language": "python",
     "metadata": {},
     "outputs": [],
     "prompt_number": 5
    },
    {
     "cell_type": "code",
     "collapsed": false,
     "input": [
      "dates = [scintillate.convert_time(t['info']['uploaded']) for t in x]"
     ],
     "language": "python",
     "metadata": {},
     "outputs": [],
     "prompt_number": 9
    },
    {
     "cell_type": "code",
     "collapsed": false,
     "input": [
      "api = scintillate.Flickr()"
     ],
     "language": "python",
     "metadata": {},
     "outputs": [],
     "prompt_number": 13
    },
    {
     "cell_type": "code",
     "collapsed": false,
     "input": [
      "y = api.flickr.stats_getTotalViews(date='2014-06-05', format='json')"
     ],
     "language": "python",
     "metadata": {},
     "outputs": [],
     "prompt_number": 21
    },
    {
     "cell_type": "code",
     "collapsed": false,
     "input": [
      "scintillate.api.nprint(api._get(y))"
     ],
     "language": "python",
     "metadata": {},
     "outputs": [
      {
       "output_type": "stream",
       "stream": "stdout",
       "text": [
        "{u'stat': u'ok',\n",
        " u'stats': {u'collections': {u'views': 0},\n",
        "            u'galleries': {u'views': 0},\n",
        "            u'photos': {u'views': u'200'},\n",
        "            u'photostream': {u'views': u'8'},\n",
        "            u'sets': {u'views': u'3'},\n",
        "            u'total': {u'views': 211}}}\n"
       ]
      }
     ],
     "prompt_number": 23
    },
    {
     "cell_type": "code",
     "collapsed": false,
     "input": [
      "z = api.flickr.photos_getInfo(photo_id='8409361473', format='json')"
     ],
     "language": "python",
     "metadata": {},
     "outputs": [],
     "prompt_number": 25
    },
    {
     "cell_type": "code",
     "collapsed": false,
     "input": [
      "scintillate.api.nprint(api._get(z))"
     ],
     "language": "python",
     "metadata": {},
     "outputs": [
      {
       "output_type": "stream",
       "stream": "stdout",
       "text": [
        "{u'photo': {u'comments': {u'_content': u'0'},\n",
        "            u'dates': {u'lastupdate': u'1358998873',\n",
        "                       u'posted': u'1358998866',\n",
        "                       u'taken': u'2012-11-04 20:52:57',\n",
        "                       u'takengranularity': u'0'},\n",
        "            u'dateuploaded': u'1358998866',\n",
        "            u'description': {u'_content': u''},\n",
        "            u'editability': {u'canaddmeta': 1, u'cancomment': 1},\n",
        "            u'farm': 9,\n",
        "            u'id': u'8409361473',\n",
        "            u'isfavorite': 0,\n",
        "            u'license': u'0',\n",
        "            u'media': u'photo',\n",
        "            u'notes': {u'note': []},\n",
        "            u'originalformat': u'jpg',\n",
        "            u'originalsecret': u'083c11bcd7',\n",
        "            u'owner': {u'iconfarm': 4,\n",
        "                       u'iconserver': u'3725',\n",
        "                       u'location': u'',\n",
        "                       u'nsid': u'51322276@N05',\n",
        "                       u'path_alias': u'pxddn',\n",
        "                       u'realname': u'Alex',\n",
        "                       u'username': u'pxddn'},\n",
        "            u'people': {u'haspeople': 0},\n",
        "            u'permissions': {u'permaddmeta': 2, u'permcomment': 3},\n",
        "            u'publiceditability': {u'canaddmeta': 0, u'cancomment': 1},\n",
        "            u'rotation': 0,\n",
        "            u'safety_level': u'0',\n",
        "            u'secret': u'07c682ae71',\n",
        "            u'server': u'8464',\n",
        "            u'tags': {u'tag': []},\n",
        "            u'title': {u'_content': u'IMG_6811'},\n",
        "            u'urls': {u'url': [{u'_content': u'http://www.flickr.com/photos/pxddn/8409361473/',\n",
        "                                u'type': u'photopage'}]},\n",
        "            u'usage': {u'canblog': 1,\n",
        "                       u'candownload': 1,\n",
        "                       u'canprint': 1,\n",
        "                       u'canshare': 1},\n",
        "            u'views': u'0',\n",
        "            u'visibility': {u'isfamily': 0, u'isfriend': 0, u'ispublic': 0}},\n",
        " u'stat': u'ok'}\n"
       ]
      }
     ],
     "prompt_number": 26
    },
    {
     "cell_type": "code",
     "collapsed": false,
     "input": [],
     "language": "python",
     "metadata": {},
     "outputs": []
    }
   ],
   "metadata": {}
  }
 ]
}