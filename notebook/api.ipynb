{
 "metadata": {
  "name": "",
  "signature": "sha256:4be78bc136cd3f03860fbd50e965e984a8b1aa4d7c04ebc8be002950d303b82f"
 },
 "nbformat": 3,
 "nbformat_minor": 0,
 "worksheets": [
  {
   "cells": [
    {
     "cell_type": "code",
     "collapsed": false,
     "input": [
      "import sys\n",
      "sys.path.append('/Users/ajmendez/dev/scintillate/')"
     ],
     "language": "python",
     "metadata": {},
     "outputs": [],
     "prompt_number": 1
    },
    {
     "cell_type": "code",
     "collapsed": false,
     "input": [
      "import json\n",
      "import requests\n",
      "import scintillate\n",
      "import scintillate.api\n",
      "reload(scintillate.api)\n",
      "from pymendez.auth import auth"
     ],
     "language": "python",
     "metadata": {},
     "outputs": [],
     "prompt_number": 24
    },
    {
     "cell_type": "code",
     "collapsed": false,
     "input": [
      "api = scintillate.Flickr()"
     ],
     "language": "python",
     "metadata": {},
     "outputs": [],
     "prompt_number": 3
    },
    {
     "cell_type": "code",
     "collapsed": false,
     "input": [
      "exif = api.getexif('8409361473')"
     ],
     "language": "python",
     "metadata": {},
     "outputs": [],
     "prompt_number": 4
    },
    {
     "cell_type": "code",
     "collapsed": false,
     "input": [
      "exif"
     ],
     "language": "python",
     "metadata": {},
     "outputs": []
    },
    {
     "cell_type": "code",
     "collapsed": false,
     "input": [
      "# y = api.flickr.stats_getTotalViews(date='2014-06-05', format='json')\n",
      "y = api.flickr.stats_getPhotostreamDomains(date='2014-06-05', format='json')\n",
      "# y = api.flickr.stats_getPhotostreamReferrers(date='2014-06-05', domain='flickr.com', format='json')"
     ],
     "language": "python",
     "metadata": {},
     "outputs": [],
     "prompt_number": 36
    },
    {
     "cell_type": "code",
     "collapsed": false,
     "input": [
      "scintillate.api.nprint(scintillate.api._json((y)))"
     ],
     "language": "python",
     "metadata": {},
     "outputs": [
      {
       "output_type": "stream",
       "stream": "stdout",
       "text": [
        "{u'domains': {u'domain': [{u'name': u'flickr.com', u'views': u'3'},\n",
        "                          {u'name': u'google.com', u'views': u'2'},\n",
        "                          {u'name': u'physics.ucsd.edu', u'views': u'1'}],\n",
        "              u'page': 1,\n",
        "              u'pages': 1,\n",
        "              u'perpage': 25,\n",
        "              u'total': u'3'},\n",
        " u'stat': u'ok'}\n"
       ]
      }
     ],
     "prompt_number": 37
    },
    {
     "cell_type": "code",
     "collapsed": false,
     "input": [
      "z = api.flickr.photos_getInfo(photo_id='8409361473', format='json')\n",
      "# z = api.flickr.photos_getExif(photo_id='8409361473', format='json')"
     ],
     "language": "python",
     "metadata": {},
     "outputs": []
    },
    {
     "cell_type": "markdown",
     "metadata": {},
     "source": [
      "# api stats"
     ]
    },
    {
     "cell_type": "code",
     "collapsed": false,
     "input": [
      "cookiefile = auth('chrome','cookiefile')\n",
      "print cookiefile"
     ],
     "language": "python",
     "metadata": {},
     "outputs": [
      {
       "output_type": "stream",
       "stream": "stdout",
       "text": [
        "/Users/ajmendez/Library/Application Support/Google/Chrome/Default/Cookies\n"
       ]
      }
     ],
     "prompt_number": 25
    },
    {
     "cell_type": "code",
     "collapsed": false,
     "input": [
      "%%bash \n",
      "wget --load-cookies ~/.limited/cookies.txt -O api.html https://www.flickr.com/services/apps/72157632479752633/key"
     ],
     "language": "python",
     "metadata": {},
     "outputs": [
      {
       "output_type": "stream",
       "stream": "stderr",
       "text": [
        "--2014-06-30 12:56:53--  https://www.flickr.com/services/apps/72157632479752633/key\n",
        "Resolving www.flickr.com... 67.195.141.200, 208.71.44.31, 206.190.61.106, ...\n",
        "Connecting to www.flickr.com|67.195.141.200|:443... connected.\n",
        "HTTP request sent, awaiting response... 302 Found\n",
        "Location: https://www.flickr.com/cookie_migration.gne?redirect_url=https%3A%2F%2Fwww.flickr.com%2Fservices%2Fapps%2F72157632479752633%2Fkey [following]\n",
        "--2014-06-30 12:56:53--  https://www.flickr.com/cookie_migration.gne?redirect_url=https%3A%2F%2Fwww.flickr.com%2Fservices%2Fapps%2F72157632479752633%2Fkey\n",
        "Reusing existing connection to www.flickr.com:443.\n",
        "HTTP request sent, awaiting response... 302 Found\n",
        "Location: https://www.flickr.com/cookie_migration_done.gne?migration_id=3235&redirect_url=https%3A%2F%2Fwww.flickr.com%2Fservices%2Fapps%2F72157632479752633%2Fkey [following]\n",
        "--2014-06-30 12:56:53--  https://www.flickr.com/cookie_migration_done.gne?migration_id=3235&redirect_url=https%3A%2F%2Fwww.flickr.com%2Fservices%2Fapps%2F72157632479752633%2Fkey\n",
        "Reusing existing connection to www.flickr.com:443.\n",
        "HTTP request sent, awaiting response... 302 Found\n",
        "Location: https://www.flickr.com/services/apps/72157632479752633/key [following]\n",
        "--2014-06-30 12:56:53--  https://www.flickr.com/services/apps/72157632479752633/key\n",
        "Reusing existing connection to www.flickr.com:443.\n",
        "HTTP request sent, awaiting response... 200 OK\n",
        "Length: unspecified [text/html]\n",
        "Saving to: 'api.html'\n",
        "\n",
        "     0K .......... .......... .......... .......... ..........  302K\n",
        "    50K .......... .......... .......... .......... ..........  302K\n",
        "   100K .......... .......... .......... .......... ......     3.11M=0.3s\n",
        "\n",
        "2014-06-30 12:56:54 (425 KB/s) - 'api.html' saved [150154]\n",
        "\n"
       ]
      }
     ],
     "prompt_number": 68
    },
    {
     "cell_type": "code",
     "collapsed": false,
     "input": [
      "import requests\n",
      "import cookielib\n",
      "from bs4 import BeautifulSoup"
     ],
     "language": "python",
     "metadata": {},
     "outputs": [],
     "prompt_number": 69
    },
    {
     "cell_type": "code",
     "collapsed": false,
     "input": [
      "cj = cookielib.MozillaCookieJar('/Users/ajmendez/.limited/cookies.txt')\n",
      "# cj = cookielib.FileCookieJar('/Users/ajmendez/.limited/cookies')\n",
      "\n",
      "cj.load()\n",
      "response = requests.get('https://www.flickr.com/services/apps/72157632479752633/key', cookies=cj)"
     ],
     "language": "python",
     "metadata": {},
     "outputs": [],
     "prompt_number": 70
    },
    {
     "cell_type": "code",
     "collapsed": false,
     "input": [
      "soup = BeautifulSoup(response.text)"
     ],
     "language": "python",
     "metadata": {},
     "outputs": [],
     "prompt_number": 73
    },
    {
     "cell_type": "code",
     "collapsed": false,
     "input": [
      "soup = BeautifulSoup(open('api.html','r'))"
     ],
     "language": "python",
     "metadata": {},
     "outputs": [],
     "prompt_number": 72
    },
    {
     "cell_type": "code",
     "collapsed": false,
     "input": [
      "for table in soup.findAll('table'):\n",
      "    if not table.get('id'):\n",
      "#         print table.prettify()\n",
      "        for bar in table.findAll('div',{'class':'statlabel'}):\n",
      "            tmp = bar.text.split('QPS')\n",
      "            tmp2 = tmp[1].replace(',','').split()\n",
      "            qps = float(tmp[0])\n",
      "            calls = int(tmp2[0])\n",
      "            timescale = tmp2[-1]\n",
      "            print qps, calls, timescale\n",
      "            \n",
      "        print '----'"
     ],
     "language": "python",
     "metadata": {},
     "outputs": [
      {
       "output_type": "stream",
       "stream": "stdout",
       "text": [
        "0.23 832 hour\n",
        "0.16 574 hour\n",
        "0.061 220 hour\n",
        "0.0 0 hour\n",
        "0.0 0 hour\n",
        "0.0 0 hour\n",
        "0.0 0 hour\n",
        "0.0 0 hour\n",
        "0.0 0 hour\n",
        "0.49 1756 hour\n",
        "0.49 1750 hour\n",
        "0.48 1742 hour\n",
        "0.48 1737 hour\n",
        "0.17 622 hour\n",
        "0.0 0 hour\n",
        "0.0 0 hour\n",
        "0.0 0 hour\n",
        "0.0 0 hour\n",
        "0.12 427 hour\n",
        "0.28 1022 hour\n",
        "0.5 1800 hour\n",
        "0.25 915 hour\n",
        "0.23 815 hour\n",
        "0.24 864 hour\n",
        "----\n",
        "0.1 8611 day\n",
        "0.27 23564 day\n",
        "0.12 10128 day\n",
        "0.34 29535 day\n",
        "0.1 8806 day\n",
        "0.0015 129 day\n",
        "0.0014 125 day\n",
        "0.0014 122 day\n",
        "0.0 0 day\n",
        "0.0 0 day\n",
        "0.003 261 day\n",
        "0.00079 68 day\n",
        "0.0042 360 day\n",
        "0.00022 19 day\n",
        "0.0014 118 day\n",
        "0.0 0 day\n",
        "0.0 0 day\n",
        "0.0 0 day\n",
        "0.0 0 day\n",
        "0.0 0 day\n",
        "0.00065 56 day\n",
        "0.00089 77 day\n",
        "0.0 0 day\n",
        "0.0 0 day\n",
        "0.003 262 day\n",
        "0.0 0 day\n",
        "0.0 0 day\n",
        "0.0 0 day\n",
        "0.0 0 day\n",
        "0.0 0 day\n",
        "----\n",
        "0.014 8611 week\n",
        "0.12 72409 week\n",
        "0.0014 826 week\n",
        "0.00022 133 week\n",
        "0.00043 262 week\n",
        "0.0 0 week\n",
        "0.00034 203 week\n",
        "0.00063 381 week\n",
        "0.00057 347 week\n",
        "7.9e-05 48 week\n",
        "0.00061 369 week\n",
        "0.0005 301 week\n",
        "9.3e-05 56 week\n",
        "9.6e-05 58 week\n",
        "0.00035 209 week\n",
        "0.00028 171 week\n",
        "0.00043 260 week\n",
        "0.00033 199 week\n",
        "0.0 0 week\n",
        "0.00042 253 week\n",
        "0.0 0 week\n",
        "0.00075 451 week\n",
        "0.0002 121 week\n",
        "0.00019 116 week\n",
        "0.00039 235 week\n",
        "0.0 0 week\n",
        "6.8e-05 41 week\n",
        "0.0 0 week\n",
        "0.0002 119 week\n",
        "0.0 0 week\n",
        "0.0 0 week\n",
        "0.0 0 week\n",
        "0.0 0 week\n",
        "0.0 0 week\n",
        "0.0 0 week\n",
        "0.0 0 week\n",
        "0.0 0 week\n",
        "0.0 0 week\n",
        "0.0 0 week\n",
        "0.0 0 week\n",
        "0.0 0 week\n",
        "0.0 0 week\n",
        "0.0 0 week\n",
        "0.0 0 week\n",
        "0.0 0 week\n",
        "0.0 0 week\n",
        "0.0 0 week\n",
        "0.0 0 week\n",
        "0.0 0 week\n",
        "0.0 0 week\n",
        "0.0 0 week\n",
        "0.0 0 week\n",
        "----\n"
       ]
      }
     ],
     "prompt_number": 74
    },
    {
     "cell_type": "code",
     "collapsed": false,
     "input": [
      "w"
     ],
     "language": "python",
     "metadata": {},
     "outputs": []
    }
   ],
   "metadata": {}
  }
 ]
}