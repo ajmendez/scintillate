{
 "metadata": {
  "name": ""
 },
 "nbformat": 3,
 "nbformat_minor": 0,
 "worksheets": [
  {
   "cells": [
    {
     "cell_type": "markdown",
     "metadata": {},
     "source": [
      "## unique id"
     ]
    },
    {
     "cell_type": "code",
     "collapsed": false,
     "input": [
      "import struct, array\n",
      "from datetime import datetime"
     ],
     "language": "python",
     "metadata": {},
     "outputs": [],
     "prompt_number": 2
    },
    {
     "cell_type": "code",
     "collapsed": false,
     "input": [
      "events = [datetime(2008,7,12,14,55,54),\n",
      "          datetime(2008,7,12,14,55,56),\n",
      "          datetime(2008,7,12,14,55,59),\n",
      "          datetime(2008,7,12,14,56, 4),\n",
      "          datetime(2009,3,29,22,21,40),\n",
      "          datetime(2009,3,29,22,21,57),\n",
      "          datetime(2009,3,29,22,22, 6),\n",
      "          datetime(2009,3,29,22,22,12),\n",
      "          datetime(2009,3,29,22,22,19),]\n",
      "versions = ['375c3375eeda3553c380a5883dd884d4',\n",
      "            '345c3f75eeda3553c380a5883dd884d4',\n",
      "            '355cc572eeda3553c380a5883dd884d4',\n",
      "            '325ccd72eeda3553c380a5883dd884d4',\n",
      "            '13792f1680d93553c380a5883dd884d4',\n",
      "            '1079cf1780d93553c380a5883dd884d4',\n",
      "            '1179db1780d93553c380a5883dd884d4',\n",
      "            '1e79ed1780d93553c380a5883dd884d4', \n",
      "            '1f79f31780d93553c380a5883dd884d4',]\n",
      "index = [4018, 4019, 4020, 4021, 914,915,916, 917]"
     ],
     "language": "python",
     "metadata": {},
     "outputs": [],
     "prompt_number": 196
    },
    {
     "cell_type": "code",
     "collapsed": false,
     "input": [
      "def tohex(arr, reverse=False, pad=''):\n",
      "    if isinstance(arr, (list,tuple)):\n",
      "        return [tohex(x, reverse=reverse, pad=pad) for x in arr]\n",
      "    if reverse:\n",
      "        tmp = tohex(arr)\n",
      "        # there should be a better way to do this using array.array\n",
      "        out = ''.join([a+b for a,b in reversed(zip(tmp[::2],tmp[1::2]))])\n",
      "    else:\n",
      "        out = hex(arr).replace('L','').replace('-','')[2:]\n",
      "    return out + pad\n",
      "\n",
      "def toint(arr):\n",
      "    if isinstance(arr, (list,tuple)):\n",
      "        return [toint(x) for x in arr]\n",
      "    return int(arr,16)\n",
      "\n",
      "def XOR(arr,arr2):\n",
      "    if isinstance(arr, (list,tuple)):\n",
      "        return [XOR(x,y) for x,y in zip(arr,arr2)]\n",
      "    if isinstance(arr, str):\n",
      "        return tohex(toint(arr) ^ toint(arr2))\n",
      "    else:\n",
      "        return tohex(arr ^ arr2)\n",
      "\n",
      "def AND(arr,arr2):\n",
      "    if isinstance(arr, (list,tuple)):\n",
      "        return [AND(x,y) for x,y in zip(arr,arr2)]\n",
      "    if isinstance(arr, str):\n",
      "        return tohex(toint(arr) & toint(arr2))\n",
      "    else:\n",
      "        return tohex(arr & arr2)\n",
      "\n",
      "def OR(arr,arr2):\n",
      "    if isinstance(arr, (list,tuple)):\n",
      "        return [OR(x,y) for x,y in zip(arr,arr2)]\n",
      "    if isinstance(arr, str):\n",
      "        return tohex(toint(arr) | toint(arr2))\n",
      "    else:\n",
      "        return tohex(arr | arr2)\n",
      "    \n",
      "def SUB(arr, arr2):\n",
      "    if isinstance(arr, (list,tuple)):\n",
      "        return [SUB(x,y) for x,y in zip(arr,arr2)]\n",
      "    if isinstance(arr, str):\n",
      "        return tohex(toint(arr) - toint(arr2))\n",
      "    else:\n",
      "        return tohex(arr - arr2)\n",
      "\n",
      "def ADD(arr, arr2):\n",
      "    if isinstance(arr, (list,tuple)):\n",
      "        return [ADD(x,y) for x,y in zip(arr,arr2)]\n",
      "    if isinstance(arr, str):\n",
      "        return tohex(toint(arr) + toint(arr2))\n",
      "    else:\n",
      "        return tohex(arr + arr2)\n",
      "\n",
      "# def asint(arr, rev=False):\n",
      "#     if isinstance(arr, (list,tuple)):\n",
      "#         return [asint(x,rev) for x in arr]\n",
      "#     return [int((b+a if rev else a+b),16) for a,b in zip(arr[::2],arr[1::2])]\n",
      "# asint('10'), asint('01'),asint('10',True), asint('01',True)\n",
      "\n",
      "\n",
      "def pack(arr, fmt='>Q'):\n",
      "    if isinstance(arr, (list,tuple)):\n",
      "        tmp = [pack(x, fmt) for x in arr]\n",
      "        return [''.join('%02x'%x for x in array.array('B', t)) for t in tmp]\n",
      "    \n",
      "    return struct.pack(fmt, arr)\n",
      "# print times[0]\n",
      "# print itimes[0]\n",
      "# print ''.join('%02x'%x for x in array.array('B', pack(toint(times[0]))))\n",
      "# print len('0000fac578480000')\n",
      "# print len(times[0])\n",
      "\n",
      "def unpack(arr, fmt='>Q'):\n",
      "    if isinstance(arr, (list,tuple)):\n",
      "        print len(arr[0])\n",
      "        return [unpack(x, fmt) for x in arr]\n",
      "    return struct.unpack(fmt, arr)\n",
      "# unpack(times, fmt='>Qxxxx')"
     ],
     "language": "python",
     "metadata": {},
     "outputs": [],
     "prompt_number": 481
    },
    {
     "cell_type": "code",
     "collapsed": false,
     "input": [
      "EPOCH = datetime(1970,1,1,0,0,0)\n",
      "vers = tohex(toint([v[:12] for v in versions]), reverse=False)\n",
      "times = tohex([int((e-EPOCH).total_seconds()) for e in events], reverse=True, pad='0000')\n",
      "rvers = tohex(toint([v[:12] for v in versions]), reverse=True)\n",
      "rtimes = tohex([int((e-EPOCH).total_seconds()) for e in events], reverse=False, pad='0000')\n",
      "ptimes = pack([int((e-EPOCH).total_seconds()) for e in events],fmt='>lxx')\n",
      "ind = tohex(index, pad='0'*10)\n",
      "ivers = toint(vers)\n",
      "itimes = toint(times)\n",
      "zip(vers,times, ind)\n",
      "zip(rvers,ptimes, ind)"
     ],
     "language": "python",
     "metadata": {},
     "outputs": [
      {
       "metadata": {},
       "output_type": "pyout",
       "prompt_number": 515,
       "text": [
        "[('daee75335c37', '4878c5fa0000', 'fb20000000000'),\n",
        " ('daee753f5c34', '4878c5fc0000', 'fb30000000000'),\n",
        " ('daee72c55c35', '4878c5ff0000', 'fb40000000000'),\n",
        " ('daee72cd5c32', '4878c6040000', 'fb50000000000'),\n",
        " ('d980162f7913', '49cff4740000', '3920000000000'),\n",
        " ('d98017cf7910', '49cff4850000', '3930000000000'),\n",
        " ('d98017db7911', '49cff48e0000', '3940000000000'),\n",
        " ('d98017ed791e', '49cff4940000', '3950000000000')]"
       ]
      }
     ],
     "prompt_number": 515
    },
    {
     "cell_type": "code",
     "collapsed": false,
     "input": [
      "rvtime = XOR(rvers,ptimes)\n",
      "zip(rvers, rvtime, unpack(rvtime, fmt='>LLL'))"
     ],
     "language": "python",
     "metadata": {},
     "outputs": [
      {
       "output_type": "stream",
       "stream": "stdout",
       "text": [
        "12\n"
       ]
      },
      {
       "metadata": {},
       "output_type": "pyout",
       "prompt_number": 612,
       "text": [
        "[('daee75335c37', '9296b0c95c37', (959592758, 1647338297, 895693623)),\n",
        " ('daee753f5c34', '9296b0c35c34', (959592758, 1647338291, 895693620)),\n",
        " ('daee72c55c35', '9296b73a5c35', (959592758, 1647784801, 895693621)),\n",
        " ('daee72cd5c32', '9296b4c95c32', (959592758, 1647600441, 895693618)),\n",
        " ('d980162f7913', '904fe25b7913', (959460454, 1697789282, 926495027)),\n",
        " ('d98017cf7910', '904fe34a7910', (959460454, 1697854561, 926495024)),\n",
        " ('d98017db7911', '904fe3557911', (959460454, 1697854773, 926495025)),\n",
        " ('d98017ed791e', '904fe379791e', (959460454, 1697855289, 926495077)),\n",
        " ('d98017f3791f', '904fe368791f', (959460454, 1697855032, 926495078))]"
       ]
      }
     ],
     "prompt_number": 612
    },
    {
     "cell_type": "code",
     "collapsed": false,
     "input": [
      "np.diff(np.array(unpack(rvers, fmt='>lll')), axis=0)"
     ],
     "language": "python",
     "metadata": {},
     "outputs": [
      {
       "output_type": "stream",
       "stream": "stdout",
       "text": [
        "12\n"
       ]
      },
      {
       "metadata": {},
       "output_type": "pyout",
       "prompt_number": 665,
       "text": [
        "array([[         0,         51,         -3],\n",
        "       [         0,    -184369,          1],\n",
        "       [         0,         47,         -3],\n",
        "       [  -2633013, -100413694,   30801409],\n",
        "       [         0,      78080,         -3],\n",
        "       [         0,        252,          1],\n",
        "       [         0,        258,         52],\n",
        "       [         0,        207,          1]])"
       ]
      }
     ],
     "prompt_number": 665
    },
    {
     "cell_type": "code",
     "collapsed": false,
     "input": [
      "A = XOR(vers, vers[1:])\n",
      "B = XOR(times, times[1:])\n",
      "C = XOR(ind, ind[1:])\n",
      "A,B,C = zip(*[t for i,t in enumerate(zip(A, B, C)) if i !=3])\n",
      "zip(A,B,C)"
     ],
     "language": "python",
     "metadata": {},
     "outputs": [
      {
       "metadata": {},
       "output_type": "pyout",
       "prompt_number": 518,
       "text": [
        "[('3000c000000', '60000000000', '10000000000'),\n",
        " ('100fa070000', '30000000000', '70000000000'),\n",
        " ('70008000000', 'fb0300000000', '10000000000'),\n",
        " ('300e0010000', 'f10000000000', '10000000000'),\n",
        " ('10014000000', 'b0000000000', '70000000000'),\n",
        " ('f0036000000', '1a0000000000', '10000000000')]"
       ]
      }
     ],
     "prompt_number": 518
    },
    {
     "cell_type": "code",
     "collapsed": false,
     "input": [
      "tmp = tohex(toint(A),reverse=False)\n",
      "tmp2 = unpack(tmp,'<hhxxxhxx')\n",
      "zip(tmp, tmp2)"
     ],
     "language": "python",
     "metadata": {},
     "outputs": [
      {
       "output_type": "stream",
       "stream": "stdout",
       "text": [
        "11\n"
       ]
      },
      {
       "metadata": {},
       "output_type": "pyout",
       "prompt_number": 718,
       "text": [
        "[('3000c000000', (12339, 12336, 12336)),\n",
        " ('100fa070000', (12337, 26160, 12336)),\n",
        " ('70008000000', (12343, 12336, 12336)),\n",
        " ('300e0010000', (12339, 25904, 12336)),\n",
        " ('10014000000', (12337, 12592, 12336)),\n",
        " ('f0036000000', (12390, 13104, 12336))]"
       ]
      }
     ],
     "prompt_number": 718
    },
    {
     "cell_type": "code",
     "collapsed": false,
     "input": [
      "alpha,beta = \"zip(*[toint([a[:2], b[:2]]) for a,b in zip(A,B)])\n",
      "pylab.plot(alpha,beta, 's');\n",
      "alpha,beta"
     ],
     "language": "python",
     "metadata": {},
     "outputs": [
      {
       "metadata": {},
       "output_type": "pyout",
       "prompt_number": 280,
       "text": [
        "((48, 16, 112, 48, 16, 240), (96, 48, 251, 241, 176, 26))"
       ]
      },
      {
       "metadata": {},
       "output_type": "display_data",
       "png": "[encoded data removed]",
       "text": [
        "<matplotlib.figure.Figure at 0x1037e6750>"
       ]
      }
     ],
     "prompt_number": 280
    },
    {
     "cell_type": "code",
     "collapsed": false,
     "input": [
      "print toint('80'), toint('cf')\n",
      "print toint('ee'), toint('78')"
     ],
     "language": "python",
     "metadata": {},
     "outputs": [
      {
       "output_type": "stream",
       "stream": "stdout",
       "text": [
        "128 207\n",
        "238 120\n"
       ]
      }
     ],
     "prompt_number": 188
    },
    {
     "cell_type": "code",
     "collapsed": false,
     "input": [
      "tohex(toint('f'*16))"
     ],
     "language": "python",
     "metadata": {},
     "outputs": [
      {
       "metadata": {},
       "output_type": "pyout",
       "prompt_number": 153,
       "text": [
        "'ffffffffffffffff'"
       ]
      }
     ],
     "prompt_number": 153
    },
    {
     "cell_type": "code",
     "collapsed": false,
     "input": [
      "print xor(rit, rit[1:])"
     ],
     "language": "python",
     "metadata": {},
     "outputs": [
      {
       "output_type": "stream",
       "stream": "stdout",
       "text": [
        "['5000c0000', '200fa0700', 'fc03080000']\n"
       ]
      }
     ],
     "prompt_number": 77
    },
    {
     "cell_type": "code",
     "collapsed": false,
     "input": [
      "tohex(72157600316000762)"
     ],
     "language": "python",
     "metadata": {},
     "outputs": [
      {
       "metadata": {},
       "output_type": "pyout",
       "prompt_number": 234,
       "text": [
        "'1005af486ae09fa'"
       ]
      }
     ],
     "prompt_number": 234
    },
    {
     "cell_type": "code",
     "collapsed": false,
     "input": [
      "0b1 % 0b10"
     ],
     "language": "python",
     "metadata": {},
     "outputs": [
      {
       "metadata": {},
       "output_type": "pyout",
       "prompt_number": 314,
       "text": [
        "1"
       ]
      }
     ],
     "prompt_number": 314
    },
    {
     "cell_type": "code",
     "collapsed": false,
     "input": [],
     "language": "python",
     "metadata": {},
     "outputs": []
    }
   ],
   "metadata": {}
  }
 ]
}